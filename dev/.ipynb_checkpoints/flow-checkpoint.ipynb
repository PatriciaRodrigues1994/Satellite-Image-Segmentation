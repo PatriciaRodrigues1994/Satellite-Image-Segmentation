{
 "cells": [
  {
   "cell_type": "code",
   "execution_count": 1,
   "metadata": {},
   "outputs": [],
   "source": [
    "%load_ext autoreload\n",
    "%autoreload"
   ]
  },
  {
   "cell_type": "code",
   "execution_count": 2,
   "metadata": {},
   "outputs": [],
   "source": [
    "%matplotlib inline\n",
    "# https://github.com/ternaus/TernausNet\n",
    "from pycocotools.coco import COCO\n",
    "from pycocotools import mask as cocomask\n",
    "import numpy as np\n",
    "import skimage.io as io\n",
    "import matplotlib.pyplot as plt\n",
    "import pylab\n",
    "import random\n",
    "import os\n",
    "pylab.rcParams['figure.figsize'] = (8.0, 10.0)"
   ]
  },
  {
   "cell_type": "code",
   "execution_count": 3,
   "metadata": {},
   "outputs": [],
   "source": [
    "import torch\n",
    "from torch.utils.data import DataLoader\n",
    "from torch.utils.data.sampler import RandomSampler, SequentialSampler\n",
    "\n",
    "import dataset.transform_and_augment as trans_aug\n",
    "import os\n",
    "from multiprocessing import cpu_count\n",
    "\n",
    "from dataset.dataset import TrainImageDataset, TestImageDataset\n",
    "import multiprocessing"
   ]
  },
  {
   "cell_type": "code",
   "execution_count": 4,
   "metadata": {
    "scrolled": true
   },
   "outputs": [
    {
     "name": "stdout",
     "output_type": "stream",
     "text": [
      "/home/webwerks/patricia/my-projects/github/Segmentation/dev\r\n"
     ]
    }
   ],
   "source": [
    "!pwd"
   ]
  },
  {
   "cell_type": "code",
   "execution_count": 5,
   "metadata": {},
   "outputs": [],
   "source": [
    "# change the working dirctory\n",
    "project_dir = \"/home/webwerks/patricia/my-projects/github/Segmentation\"\n",
    "os.chdir(project_dir)\n",
    "\n",
    "data_directory = \"data/\"\n",
    "annotation_file_template = \"{}/{}/annotation{}.json\"\n",
    "\n",
    "TRAIN_IMAGES_DIRECTORY = \"data/train/images\"\n",
    "TRAIN_ANNOTATIONS_PATH = \"data/train/annotation.json\"\n",
    "TRAIN_ANNOTATIONS_SMALL_PATH = \"data/train/annotation-small.json\"\n",
    "\n",
    "VAL_IMAGES_DIRECTORY = \"data/val/images\"\n",
    "VAL_ANNOTATIONS_PATH = \"data/val/annotation.json\"\n",
    "VAL_ANNOTATIONS_SMALL_PATH = \"data/val/annotation-small.json\""
   ]
  },
  {
   "cell_type": "code",
   "execution_count": 6,
   "metadata": {},
   "outputs": [
    {
     "name": "stdout",
     "output_type": "stream",
     "text": [
      "loading annotations into memory...\n",
      "Done (t=30.13s)\n",
      "creating index...\n",
      "index created!\n",
      "loading annotations into memory...\n",
      "Done (t=5.54s)\n",
      "creating index...\n",
      "index created!\n"
     ]
    }
   ],
   "source": [
    "# create a train dataset\n",
    "train_coco = COCO(os.path.join(TRAIN_ANNOTATIONS_PATH))\n",
    "# create a val dataset\n",
    "val_coco = COCO(os.path.join(VAL_ANNOTATIONS_PATH))\n"
   ]
  },
  {
   "cell_type": "code",
   "execution_count": 7,
   "metadata": {},
   "outputs": [],
   "source": [
    "input_img_resize = (300, 300)  # The resize size of the input images of the neural net\n",
    "output_img_resize = (300, 300)  # The resize size of the output images of the neural net\n",
    "\n",
    "batch_size = 1\n",
    "epochs = 50\n",
    "threshold = 0.5\n",
    "validation_size = 0.2\n",
    "sample_size = None  # Put 'None' to work on full dataset or a value between 0 and 1\n",
    "\n",
    "# -- Optional parameters\n",
    "threads = cpu_count()\n",
    "use_cuda = torch.cuda.is_available()"
   ]
  },
  {
   "cell_type": "code",
   "execution_count": 8,
   "metadata": {},
   "outputs": [
    {
     "name": "stdout",
     "output_type": "stream",
     "text": [
      "Training on 280741 samples and validating on 60317 samples \n"
     ]
    }
   ],
   "source": [
    "train_ds = TrainImageDataset(img_dir = TRAIN_IMAGES_DIRECTORY , cocodataset = train_coco, y_data = None, \n",
    "                             input_img_resize = input_img_resize,output_img_resize = output_img_resize, X_transform=trans_aug.augment_img)\n",
    "\n",
    "train_loader = DataLoader(train_ds, batch_size,sampler=RandomSampler(train_ds), num_workers=threads,pin_memory=use_cuda)\n",
    "\n",
    "valid_ds = TrainImageDataset(img_dir = VAL_IMAGES_DIRECTORY, cocodataset = val_coco, y_data = None, \n",
    "                             input_img_resize = input_img_resize, output_img_resize = output_img_resize, X_transform=trans_aug.augment_img)\n",
    "\n",
    "valid_loader = DataLoader(valid_ds, batch_size,\n",
    "                          sampler=SequentialSampler(valid_ds),\n",
    "                          num_workers=threads,\n",
    "                          pin_memory=use_cuda)\n",
    "\n",
    "print(\"Training on {} samples and validating on {} samples \".format(len(train_loader.dataset), len(valid_loader.dataset)))"
   ]
  },
  {
   "cell_type": "code",
   "execution_count": 9,
   "metadata": {},
   "outputs": [],
   "source": [
    "# test dataset\n",
    "\n",
    "TEST_IMAGES_DIRECTORY = \"data/test\"\n",
    "test_ds = TestImageDataset(X_data = TEST_IMAGES_DIRECTORY, img_dir = TEST_IMAGES_DIRECTORY)\n",
    "test_loader = DataLoader(test_ds, batch_size,\n",
    "                         sampler=SequentialSampler(test_ds),\n",
    "                         num_workers=threads,\n",
    "                         pin_memory=use_cuda)"
   ]
  },
  {
   "cell_type": "code",
   "execution_count": 11,
   "metadata": {},
   "outputs": [],
   "source": [
    "from models.train_callbacks import TensorboardVisualizerCallback, TensorboardLoggerCallback, ModelSaverCallback\n",
    "from models.test_callbacks import PredictionsSaverCallback\n",
    "from models import helpers\n",
    "script_dir = os.path.dirname(project_dir)\n",
    "# Training callbacks\n",
    "tb_viz_cb = TensorboardVisualizerCallback(os.path.join(script_dir, '../sum_logs/tb_viz'))\n",
    "tb_logs_cb = TensorboardLoggerCallback(os.path.join(script_dir, '../sum_logs/tb_logs'))\n",
    "model_saver_cb = ModelSaverCallback(os.path.join(script_dir,'../sum_logs/tb_logs/model_' +\n",
    "                                                 helpers.get_model_timestamp()), verbose=True)"
   ]
  },
  {
   "cell_type": "code",
   "execution_count": 12,
   "metadata": {},
   "outputs": [
    {
     "ename": "NameError",
     "evalue": "name 'net' is not defined",
     "output_type": "error",
     "traceback": [
      "\u001b[0;31m---------------------------------------------------------------------------\u001b[0m",
      "\u001b[0;31mNameError\u001b[0m                                 Traceback (most recent call last)",
      "\u001b[0;32m<ipython-input-12-abc02a4fc991>\u001b[0m in \u001b[0;36m<module>\u001b[0;34m\u001b[0m\n\u001b[1;32m      1\u001b[0m \u001b[0;32mfrom\u001b[0m \u001b[0mmodels\u001b[0m \u001b[0;32mimport\u001b[0m \u001b[0mclassifier\u001b[0m\u001b[0;34m\u001b[0m\u001b[0;34m\u001b[0m\u001b[0m\n\u001b[1;32m      2\u001b[0m \u001b[0;32mimport\u001b[0m \u001b[0mtorch\u001b[0m\u001b[0;34m.\u001b[0m\u001b[0moptim\u001b[0m \u001b[0;32mas\u001b[0m \u001b[0moptim\u001b[0m\u001b[0;34m\u001b[0m\u001b[0;34m\u001b[0m\u001b[0m\n\u001b[0;32m----> 3\u001b[0;31m \u001b[0mclassifier\u001b[0m \u001b[0;34m=\u001b[0m \u001b[0mclassifier\u001b[0m\u001b[0;34m.\u001b[0m\u001b[0mCarvanaClassifier\u001b[0m\u001b[0;34m(\u001b[0m\u001b[0mnet\u001b[0m\u001b[0;34m,\u001b[0m \u001b[0mepochs\u001b[0m\u001b[0;34m)\u001b[0m\u001b[0;34m\u001b[0m\u001b[0;34m\u001b[0m\u001b[0m\n\u001b[0m\u001b[1;32m      4\u001b[0m \u001b[0;31m# optimizer = optim.RMSprop(net.parameters(), lr=0.0002)\u001b[0m\u001b[0;34m\u001b[0m\u001b[0;34m\u001b[0m\u001b[0;34m\u001b[0m\u001b[0m\n\u001b[1;32m      5\u001b[0m \u001b[0moptimizer\u001b[0m \u001b[0;34m=\u001b[0m \u001b[0moptim\u001b[0m\u001b[0;34m.\u001b[0m\u001b[0mSGD\u001b[0m\u001b[0;34m(\u001b[0m\u001b[0mnet\u001b[0m\u001b[0;34m.\u001b[0m\u001b[0mparameters\u001b[0m\u001b[0;34m(\u001b[0m\u001b[0;34m)\u001b[0m\u001b[0;34m,\u001b[0m \u001b[0mlr\u001b[0m\u001b[0;34m=\u001b[0m\u001b[0;36m0.01\u001b[0m\u001b[0;34m,\u001b[0m \u001b[0mmomentum\u001b[0m\u001b[0;34m=\u001b[0m\u001b[0;36m0.99\u001b[0m\u001b[0;34m)\u001b[0m\u001b[0;34m\u001b[0m\u001b[0;34m\u001b[0m\u001b[0m\n",
      "\u001b[0;31mNameError\u001b[0m: name 'net' is not defined"
     ]
    }
   ],
   "source": [
    "from models import classifier\n",
    "import torch.optim as optim\n",
    "classifier = classifier.CarvanaClassifier(net, epochs)\n",
    "# optimizer = optim.RMSprop(net.parameters(), lr=0.0002)\n",
    "optimizer = optim.SGD(net.parameters(), lr=0.01, momentum=0.99)\n"
   ]
  },
  {
   "cell_type": "code",
   "execution_count": null,
   "metadata": {},
   "outputs": [
    {
     "name": "stderr",
     "output_type": "stream",
     "text": [
      "Epochs 1/50:   0%|          | 0/280741 [?]/home/webwerks/anaconda3/lib/python3.7/site-packages/torch/nn/modules/upsampling.py:129: UserWarning: nn.Upsample is deprecated. Use nn.functional.interpolate instead.\n",
      "  warnings.warn(\"nn.{} is deprecated. Use nn.functional.interpolate instead.\".format(self.name))\n",
      "/home/webwerks/anaconda3/lib/python3.7/site-packages/torch/nn/functional.py:2423: UserWarning: Default upsampling behavior when mode=bilinear is changed to align_corners=False since 0.4.0. Please specify align_corners=True if the old behavior is desired. See the documentation of nn.Upsample for details.\n",
      "  \"See the documentation of nn.Upsample for details.\".format(mode))\n",
      "/home/webwerks/anaconda3/lib/python3.7/site-packages/torch/nn/functional.py:1332: UserWarning: nn.functional.sigmoid is deprecated. Use torch.sigmoid instead.\n",
      "  warnings.warn(\"nn.functional.sigmoid is deprecated. Use torch.sigmoid instead.\")\n",
      "/home/webwerks/anaconda3/lib/python3.7/site-packages/torch/nn/_reduction.py:49: UserWarning: size_average and reduce args will be deprecated, please use reduction='mean' instead.\n",
      "  warnings.warn(warning.format(ret))\n",
      "Epochs 1/50:  39%|███▉      | 109357/280741 [5:03:20, loss=0.70937, dice_coeff=0.73740]"
     ]
    }
   ],
   "source": [
    "%autoreload\n",
    "from models import classifier\n",
    "from models import unet\n",
    "import torch.optim as optim\n",
    "\n",
    "\n",
    "net = unet.UNetOriginal((3, *input_img_resize))\n",
    "optimizer = optim.SGD(net.parameters(), lr=0.01, momentum=0.99)\n",
    "classifier = classifier.CarvanaClassifier(net, epochs)\n",
    "# Train the classifier\n",
    "epochs = 50\n",
    "classifier.train(train_loader, valid_loader, \n",
    "                 epochs, callbacks=[tb_viz_cb, tb_logs_cb, model_saver_cb])"
   ]
  },
  {
   "cell_type": "code",
   "execution_count": null,
   "metadata": {},
   "outputs": [],
   "source": []
  },
  {
   "cell_type": "code",
   "execution_count": null,
   "metadata": {},
   "outputs": [],
   "source": []
  },
  {
   "cell_type": "code",
   "execution_count": null,
   "metadata": {},
   "outputs": [],
   "source": []
  },
  {
   "cell_type": "code",
   "execution_count": null,
   "metadata": {},
   "outputs": [],
   "source": []
  },
  {
   "cell_type": "code",
   "execution_count": null,
   "metadata": {},
   "outputs": [],
   "source": []
  },
  {
   "cell_type": "code",
   "execution_count": null,
   "metadata": {},
   "outputs": [],
   "source": [
    "# Predict & save\n",
    "classifier.predict(test_loader, callbacks=[pred_saver_cb])\n",
    "pred_saver_cb.close_saver()"
   ]
  },
  {
   "cell_type": "code",
   "execution_count": null,
   "metadata": {},
   "outputs": [],
   "source": []
  },
  {
   "cell_type": "code",
   "execution_count": null,
   "metadata": {},
   "outputs": [],
   "source": []
  },
  {
   "cell_type": "code",
   "execution_count": null,
   "metadata": {},
   "outputs": [],
   "source": []
  },
  {
   "cell_type": "code",
   "execution_count": null,
   "metadata": {},
   "outputs": [],
   "source": [
    "net = None\n",
    "classifier= None"
   ]
  },
  {
   "cell_type": "code",
   "execution_count": null,
   "metadata": {},
   "outputs": [],
   "source": [
    "## IoU\n",
    "\n",
    "import torch\n",
    "import numpy as np \n",
    "\n",
    "\n",
    "# PyTroch version\n",
    "\n",
    "SMOOTH = 1e-6\n",
    "\n",
    "def iou_pytorch(outputs: torch.Tensor, labels: torch.Tensor):\n",
    "    # You can comment out this line if you are passing tensors of equal shape\n",
    "    # But if you are passing output from UNet or something it will most probably\n",
    "    # be with the BATCH x 1 x H x W shape\n",
    "    outputs = outputs.squeeze(1)  # BATCH x 1 x H x W => BATCH x H x W\n",
    "    \n",
    "    intersection = (outputs & labels).float().sum((1, 2))  # Will be zero if Truth=0 or Prediction=0\n",
    "    union = (outputs | labels).float().sum((1, 2))         # Will be zzero if both are 0\n",
    "    \n",
    "    iou = (intersection + SMOOTH) / (union + SMOOTH)  # We smooth our devision to avoid 0/0\n",
    "    \n",
    "    thresholded = torch.clamp(20 * (iou - 0.5), 0, 10).ceil() / 10  # This is equal to comparing with thresolds\n",
    "    \n",
    "    return thresholded  # Or thresholded.mean() if you are interested in average across the batch\n",
    "    \n",
    "    \n",
    "# Numpy version\n",
    "# Well, it's the same function, so I'm going to omit the comments\n",
    "\n",
    "def iou_numpy(outputs: np.array, labels: np.array):\n",
    "    outputs = outputs.squeeze(1)\n",
    "    \n",
    "    intersection = (outputs & labels).sum((1, 2))\n",
    "    union = (outputs | labels).sum((1, 2))\n",
    "    \n",
    "    iou = (intersection + SMOOTH) / (union + SMOOTH)\n",
    "    \n",
    "    thresholded = np.ceil(np.clip(20 * (iou - 0.5), 0, 10)) / 10\n",
    "    \n",
    "    return thresholded  # Or thresholded.mean()"
   ]
  },
  {
   "cell_type": "code",
   "execution_count": null,
   "metadata": {},
   "outputs": [],
   "source": []
  },
  {
   "cell_type": "code",
   "execution_count": null,
   "metadata": {},
   "outputs": [],
   "source": [
    "## code for change detection\n",
    "# reference https://github.com/cbsudux/Mumbai-slum-segmentation/blob/b42c473af9dbd422cfa290d056125dc0174b01cb/slums/change_detection.py#L122\n",
    "mask_1,mask_2,diff =cal_diff(mask_1,mask_2,files,image_1,image_2,results_1,results_2)"
   ]
  },
  {
   "cell_type": "code",
   "execution_count": null,
   "metadata": {},
   "outputs": [],
   "source": [
    "import cv2\n",
    "from skimage import measure\n",
    " \n",
    "\n",
    "def get_area(mask):\n",
    "\tarea = measure.regionprops(mask.astype(np.uint8))\t\n",
    "\tarea = [prop.area for prop in area][0]\n",
    "\treturn area\n",
    "\n",
    "def cal_diff(mask_1,mask_2,files,image_1,image_2,results_1,results_2):\n",
    "\tlen_1 = mask_1.shape[2]\n",
    "\tlen_2 = mask_2.shape[2]\n",
    "\n",
    "\t#Number of detections might be unequal\n",
    "\t#combine mask channels.\n",
    "\tm1 = np.zeros((mask_1.shape[:2]))\n",
    "\tfor i in range(len_1):\n",
    "\t\tm1 = np.logical_or(m1,mask_1[:,:,i])\n",
    "\n",
    "\tm2 = np.zeros((mask_2.shape[:2]))\n",
    "\tfor i in range(len_2):\n",
    "\t\tm2 = np.logical_or(m2,mask_2[:,:,i])\n",
    "\n",
    "\t\n",
    "\t#Calculate total area covered by mask_1\n",
    "\tmask_1_area = get_area(m1)\n",
    "\tmask_2_area = get_area(m2)\n",
    "\n",
    "\tm1 = m1.astype(np.uint8)\t\n",
    "\tm2 = m2.astype(np.uint8)\t\n",
    "\n",
    "\tprint(m1.shape)\n",
    "\tprint(m2.shape)\n",
    "\n",
    "\tdiff = cv2.absdiff(m1,m2)\n",
    "\tdiff_area = get_area(diff)\n",
    "\n",
    "\tprint(\"M1 area :\",mask_1_area)\n",
    "\tprint(\"M2 area :\",mask_2_area)\n",
    "\tprint(\"Diff in area :\",diff_area)\n",
    "\n",
    "\tmax_area = max(mask_1_area,mask_2_area)\n",
    "\n",
    "\td = diff_area/max_area\n",
    "\tif mask_1_area > mask_2_area:\n",
    "\t\tprint(files[0],' greater area')\n",
    "\telse:\n",
    "\t\tprint(files[1],' greater area')\n",
    "\n",
    "\tprint('Change ',d*100,'%')\n",
    "\n",
    "\treturn m1,m2,diff"
   ]
  },
  {
   "cell_type": "code",
   "execution_count": null,
   "metadata": {},
   "outputs": [],
   "source": [
    "plt.imshow(mask_1)\n",
    "plt.axis('off')\n",
    "plt.savefig('change_det/mask_1.png',bbox_inches='tight')\n",
    "#plt.show()\n",
    "\n",
    "plt.imshow(mask_2)\n",
    "plt.axis('off')\n",
    "plt.savefig('change_det/mask_2.png',bbox_inches='tight')\n",
    "#plt.show()\n",
    "\n",
    "plt.imshow(diff)\n",
    "plt.axis('off')\n",
    "plt.savefig('change_det/change.png',bbox_inches='tight')\n",
    "#plt.show()"
   ]
  },
  {
   "cell_type": "code",
   "execution_count": null,
   "metadata": {},
   "outputs": [],
   "source": []
  }
 ],
 "metadata": {
  "kernelspec": {
   "display_name": "Python 3",
   "language": "python",
   "name": "python3"
  },
  "language_info": {
   "codemirror_mode": {
    "name": "ipython",
    "version": 3
   },
   "file_extension": ".py",
   "mimetype": "text/x-python",
   "name": "python",
   "nbconvert_exporter": "python",
   "pygments_lexer": "ipython3",
   "version": "3.7.3"
  }
 },
 "nbformat": 4,
 "nbformat_minor": 2
}

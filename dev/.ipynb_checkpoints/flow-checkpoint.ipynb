{
 "cells": [
  {
   "cell_type": "code",
   "execution_count": 1,
   "metadata": {},
   "outputs": [],
   "source": [
    "%load_ext autoreload\n"
   ]
  },
  {
   "cell_type": "code",
   "execution_count": 13,
   "metadata": {},
   "outputs": [],
   "source": [
    "# supress warning message\n",
    "\n",
    "import warnings\n",
    "warnings.filterwarnings(\"ignore\")\n",
    "# to print warnings only once\n",
    "# warnings.filterwarnings(action='once')\n"
   ]
  },
  {
   "cell_type": "code",
   "execution_count": 2,
   "metadata": {},
   "outputs": [],
   "source": [
    "%matplotlib inline\n",
    "# https://github.com/ternaus/TernausNet\n",
    "from pycocotools.coco import COCO\n",
    "from pycocotools import mask as cocomask\n",
    "import numpy as np\n",
    "import skimage.io as io\n",
    "import matplotlib.pyplot as plt\n",
    "import pylab\n",
    "import random\n",
    "import os\n",
    "pylab.rcParams['figure.figsize'] = (8.0, 10.0)"
   ]
  },
  {
   "cell_type": "code",
   "execution_count": 3,
   "metadata": {},
   "outputs": [],
   "source": [
    "%autoreload\n",
    "from dataset.dataset import TrainImageDataset, TestImageDataset\n",
    "import torch\n",
    "from torch.utils.data import DataLoader\n",
    "from torch.utils.data.sampler import RandomSampler, SequentialSampler\n",
    "\n",
    "import dataset.transform_and_augment as trans_aug\n",
    "import os\n",
    "from multiprocessing import cpu_count\n",
    "\n",
    "from dataset.dataset import TrainImageDataset, TestImageDataset\n",
    "import multiprocessing"
   ]
  },
  {
   "cell_type": "code",
   "execution_count": 4,
   "metadata": {
    "scrolled": true
   },
   "outputs": [
    {
     "name": "stdout",
     "output_type": "stream",
     "text": [
      "/home/webwerks/patricia/my-projects/github/Segmentation/dev\r\n"
     ]
    }
   ],
   "source": [
    "!pwd"
   ]
  },
  {
   "cell_type": "code",
   "execution_count": 5,
   "metadata": {},
   "outputs": [],
   "source": [
    "# change the working dirctory\n",
    "project_dir = \"/home/webwerks/patricia/my-projects/github/Segmentation\"\n",
    "os.chdir(project_dir)\n",
    "\n",
    "data_directory = \"data/\"\n",
    "annotation_file_template = \"{}/{}/annotation{}.json\"\n",
    "\n",
    "TRAIN_IMAGES_DIRECTORY = \"data/train/images\"\n",
    "TRAIN_ANNOTATIONS_PATH = \"data/train/annotation.json\"\n",
    "TRAIN_ANNOTATIONS_SMALL_PATH = \"data/train/annotation-small.json\"\n",
    "\n",
    "VAL_IMAGES_DIRECTORY = \"data/val/images\"\n",
    "VAL_ANNOTATIONS_PATH = \"data/val/annotation.json\"\n",
    "VAL_ANNOTATIONS_SMALL_PATH = \"data/val/annotation-small.json\""
   ]
  },
  {
   "cell_type": "code",
   "execution_count": 6,
   "metadata": {},
   "outputs": [
    {
     "name": "stdout",
     "output_type": "stream",
     "text": [
      "loading annotations into memory...\n",
      "Done (t=1.02s)\n",
      "creating index...\n",
      "index created!\n",
      "loading annotations into memory...\n",
      "Done (t=0.30s)\n",
      "creating index...\n",
      "index created!\n"
     ]
    }
   ],
   "source": [
    "# create a train dataset\n",
    "train_coco = COCO(os.path.join(TRAIN_ANNOTATIONS_SMALL_PATH))\n",
    "# create a val dataset\n",
    "val_coco = COCO(os.path.join(VAL_ANNOTATIONS_SMALL_PATH))\n"
   ]
  },
  {
   "cell_type": "code",
   "execution_count": 7,
   "metadata": {},
   "outputs": [],
   "source": [
    "input_img_resize = (224, 224)  # The resize size of the input images of the neural net\n",
    "output_img_resize = (224, 224) # The resize size of the output images of the neural net\n",
    "\n",
    "batch_size = 2\n",
    "epochs = 50\n",
    "threshold = 0.5\n",
    "validation_size = 0.2\n",
    "sample_size = None  # Put 'None' to work on full dataset or a value between 0 and 1\n",
    "\n",
    "# -- Optional parameters\n",
    "threads = cpu_count()\n",
    "use_cuda = torch.cuda.is_available()"
   ]
  },
  {
   "cell_type": "code",
   "execution_count": 18,
   "metadata": {},
   "outputs": [
    {
     "name": "stdout",
     "output_type": "stream",
     "text": [
      "Training on 1820 samples and validating on 1820 samples \n"
     ]
    }
   ],
   "source": [
    "%autoreload\n",
    "from dataset.dataset import TrainImageDataset, TestImageDataset\n",
    "# train_ds = TrainImageDataset(img_dir = VAL_IMAGES_DIRECTORY , cocodataset = val_coco, y_data = None, \n",
    "#                              input_img_resize = input_img_resize,output_img_resize = output_img_resize, X_transform=trans_aug.augment_img)\n",
    "\n",
    "# train_loader = DataLoader(train_ds, batch_size,sampler=RandomSampler(train_ds), num_workers=threads,pin_memory=use_cuda)\n",
    "\n",
    "# valid_ds = TrainImageDataset(img_dir = VAL_IMAGES_DIRECTORY, cocodataset = val_coco, y_data = None, \n",
    "#                              input_img_resize = input_img_resize, output_img_resize = output_img_resize, X_transform=trans_aug.augment_img)\n",
    "\n",
    "# valid_loader = DataLoader(valid_ds, batch_size,\n",
    "#                           sampler=SequentialSampler(valid_ds),\n",
    "#                           num_workers=threads,\n",
    "#                           pin_memory=use_cuda)\n",
    "\n",
    "train_ds = TrainImageDataset(img_dir = VAL_IMAGES_DIRECTORY , cocodataset = val_coco, y_data = None, \n",
    "                             input_img_resize = input_img_resize,output_img_resize = output_img_resize, X_transform=None)\n",
    "\n",
    "train_loader = DataLoader(train_ds, batch_size,sampler=RandomSampler(train_ds), num_workers=threads,pin_memory=use_cuda)\n",
    "\n",
    "valid_ds = TrainImageDataset(img_dir = VAL_IMAGES_DIRECTORY, cocodataset = val_coco, y_data = None, \n",
    "                             input_img_resize = input_img_resize, output_img_resize = output_img_resize, X_transform=None)\n",
    "\n",
    "valid_loader = DataLoader(valid_ds, batch_size,\n",
    "                          sampler=SequentialSampler(valid_ds),\n",
    "                          num_workers=threads,\n",
    "                          pin_memory=use_cuda)\n",
    "\n",
    "print(\"Training on {} samples and validating on {} samples \".format(len(train_loader.dataset), len(valid_loader.dataset)))"
   ]
  },
  {
   "cell_type": "code",
   "execution_count": 19,
   "metadata": {},
   "outputs": [],
   "source": [
    "# test dataset\n",
    "TEST_IMAGES_DIRECTORY = \"data/test\"\n",
    "test_ds = TestImageDataset(X_data = TEST_IMAGES_DIRECTORY, img_dir = TEST_IMAGES_DIRECTORY)\n",
    "test_loader = DataLoader(test_ds, batch_size,\n",
    "                         sampler=SequentialSampler(test_ds),\n",
    "                         num_workers=threads,\n",
    "                         pin_memory=use_cuda)"
   ]
  },
  {
   "cell_type": "code",
   "execution_count": 20,
   "metadata": {},
   "outputs": [],
   "source": [
    "from models.train_callbacks import TensorboardVisualizerCallback, TensorboardLoggerCallback, ModelSaverCallback\n",
    "from models.test_callbacks import PredictionsSaverCallback\n",
    "from models import helpers\n",
    "script_dir = os.path.dirname(project_dir)\n",
    "# Training callbacks\n",
    "tb_viz_cb = TensorboardVisualizerCallback(os.path.join(script_dir, 'logs/tb_viz'))\n",
    "tb_logs_cb = TensorboardLoggerCallback(os.path.join(script_dir, 'logs/tb_logs'))\n",
    "model_saver_cb = ModelSaverCallback(os.path.join(script_dir,'logs/tb_logs/model_' +\n",
    "                                                 helpers.get_model_timestamp()), verbose=True)\n"
   ]
  },
  {
   "cell_type": "code",
   "execution_count": 21,
   "metadata": {},
   "outputs": [
    {
     "name": "stderr",
     "output_type": "stream",
     "text": [
      "Epochs 1/10: 100%|██████████| 910/910 [00:00, loss=4.80536, dice_coeff=0.00007] \n",
      "Epochs 2/10:   0%|          | 0/910 [?]                      "
     ]
    },
    {
     "name": "stdout",
     "output_type": "stream",
     "text": [
      "train_loss = 6.274875, train_acc = 0.006909\n",
      "val_loss   = 7.078900, val_acc   = 0.000065\n",
      "Time elapsed = 100s\n"
     ]
    },
    {
     "name": "stderr",
     "output_type": "stream",
     "text": [
      "Epochs 2/10: 100%|██████████| 910/910 [00:00, loss=2.54271, dice_coeff=0.00018] \n",
      "Epochs 3/10:   0%|          | 0/910 [?]                      "
     ]
    },
    {
     "name": "stdout",
     "output_type": "stream",
     "text": [
      "train_loss = 7.078900, train_acc = 0.000058\n",
      "val_loss   = 7.078900, val_acc   = 0.000065\n",
      "Time elapsed = 102s\n"
     ]
    },
    {
     "name": "stderr",
     "output_type": "stream",
     "text": [
      "Epochs 3/10: 100%|██████████| 910/910 [00:00, loss=7.53607, dice_coeff=0.00004] \n",
      "Epochs 4/10:   0%|          | 0/910 [?]                      "
     ]
    },
    {
     "name": "stdout",
     "output_type": "stream",
     "text": [
      "train_loss = 7.078900, train_acc = 0.000059\n",
      "val_loss   = 7.078900, val_acc   = 0.000065\n",
      "Time elapsed = 104s\n"
     ]
    },
    {
     "name": "stderr",
     "output_type": "stream",
     "text": [
      "Epochs 4/10: 100%|██████████| 910/910 [00:00, loss=8.10703, dice_coeff=0.00004] \n",
      "                                                             \r"
     ]
    },
    {
     "name": "stdout",
     "output_type": "stream",
     "text": [
      "Epoch     3: reducing learning rate of group 0 to 1.0000e-04.\n"
     ]
    },
    {
     "name": "stderr",
     "output_type": "stream",
     "text": [
      "\r",
      "Epochs 5/10:   0%|          | 0/910 [?]"
     ]
    },
    {
     "name": "stdout",
     "output_type": "stream",
     "text": [
      "train_loss = 7.078900, train_acc = 0.000056\n",
      "val_loss   = 7.078900, val_acc   = 0.000065\n",
      "Time elapsed = 102s\n"
     ]
    },
    {
     "name": "stderr",
     "output_type": "stream",
     "text": [
      "Epochs 5/10: 100%|██████████| 910/910 [00:00, loss=9.07716, dice_coeff=0.00003] \n",
      "Epochs 6/10:   0%|          | 0/910 [?]                      "
     ]
    },
    {
     "name": "stdout",
     "output_type": "stream",
     "text": [
      "train_loss = 7.078900, train_acc = 0.000060\n",
      "val_loss   = 7.078900, val_acc   = 0.000065\n",
      "Time elapsed = 102s\n"
     ]
    },
    {
     "name": "stderr",
     "output_type": "stream",
     "text": [
      "Epochs 6/10: 100%|██████████| 910/910 [00:00, loss=8.20563, dice_coeff=0.00004] \n",
      "Epochs 7/10:   0%|          | 0/910 [?]                      "
     ]
    },
    {
     "name": "stdout",
     "output_type": "stream",
     "text": [
      "train_loss = 7.078900, train_acc = 0.000058\n",
      "val_loss   = 7.078900, val_acc   = 0.000065\n",
      "Time elapsed = 102s\n"
     ]
    },
    {
     "name": "stderr",
     "output_type": "stream",
     "text": [
      "Epochs 7/10: 100%|██████████| 910/910 [00:00, loss=8.11081, dice_coeff=0.00004] \n",
      "                                                             \r"
     ]
    },
    {
     "name": "stdout",
     "output_type": "stream",
     "text": [
      "Epoch     6: reducing learning rate of group 0 to 1.0000e-05.\n"
     ]
    },
    {
     "name": "stderr",
     "output_type": "stream",
     "text": [
      "\r",
      "Epochs 8/10:   0%|          | 0/910 [?]"
     ]
    },
    {
     "name": "stdout",
     "output_type": "stream",
     "text": [
      "train_loss = 7.078900, train_acc = 0.000063\n",
      "val_loss   = 7.078900, val_acc   = 0.000065\n",
      "Time elapsed = 102s\n"
     ]
    },
    {
     "name": "stderr",
     "output_type": "stream",
     "text": [
      "Epochs 8/10: 100%|██████████| 910/910 [00:00, loss=5.22192, dice_coeff=0.00007] \n",
      "Epochs 9/10:   0%|          | 0/910 [?]                      "
     ]
    },
    {
     "name": "stdout",
     "output_type": "stream",
     "text": [
      "train_loss = 7.078900, train_acc = 0.000058\n",
      "val_loss   = 7.078900, val_acc   = 0.000065\n",
      "Time elapsed = 100s\n"
     ]
    },
    {
     "name": "stderr",
     "output_type": "stream",
     "text": [
      "Epochs 9/10: 100%|██████████| 910/910 [00:00, loss=7.33338, dice_coeff=0.00004] \n",
      "Epochs 10/10:   0%|          | 0/910 [?]                     "
     ]
    },
    {
     "name": "stdout",
     "output_type": "stream",
     "text": [
      "train_loss = 7.078900, train_acc = 0.000057\n",
      "val_loss   = 7.078900, val_acc   = 0.000065\n",
      "Time elapsed = 102s\n"
     ]
    },
    {
     "name": "stderr",
     "output_type": "stream",
     "text": [
      "Epochs 10/10: 100%|██████████| 910/910 [00:00, loss=5.78152, dice_coeff=0.00006] \n",
      "                                                             \r"
     ]
    },
    {
     "name": "stdout",
     "output_type": "stream",
     "text": [
      "Epoch     9: reducing learning rate of group 0 to 1.0000e-06.\n",
      "train_loss = 7.078900, train_acc = 0.000068\n",
      "val_loss   = 7.078900, val_acc   = 0.000065\n",
      "Time elapsed = 104s\n",
      "Model saved in /home/webwerks/patricia/my-projects/github/logs/tb_logs/model_2020-01-21_13h49\n"
     ]
    }
   ],
   "source": [
    "%autoreload\n",
    "from models import classifier\n",
    "from models import unet\n",
    "import torch.optim as optim\n",
    "\n",
    "epochs = 25\n",
    "net = unet.UNet16()\n",
    "net = unet.freezing_pretrained_layers(model = net, freeze = False)\n",
    "# net = unet.UNetOriginal((3, 300,300))\n",
    "classifier = classifier.UnetClassifier(net, epochs)\n",
    "# Train the classifier\n",
    "\n",
    "classifier.train(train_loader, valid_loader, \n",
    "                 epochs, callbacks=[tb_viz_cb, tb_logs_cb, model_saver_cb])"
   ]
  },
  {
   "cell_type": "code",
   "execution_count": null,
   "metadata": {},
   "outputs": [],
   "source": []
  },
  {
   "cell_type": "code",
   "execution_count": null,
   "metadata": {},
   "outputs": [],
   "source": []
  },
  {
   "cell_type": "code",
   "execution_count": null,
   "metadata": {},
   "outputs": [],
   "source": []
  },
  {
   "cell_type": "code",
   "execution_count": null,
   "metadata": {},
   "outputs": [],
   "source": []
  },
  {
   "cell_type": "code",
   "execution_count": null,
   "metadata": {},
   "outputs": [],
   "source": []
  },
  {
   "cell_type": "code",
   "execution_count": null,
   "metadata": {},
   "outputs": [],
   "source": []
  },
  {
   "cell_type": "code",
   "execution_count": null,
   "metadata": {},
   "outputs": [],
   "source": []
  },
  {
   "cell_type": "code",
   "execution_count": null,
   "metadata": {},
   "outputs": [],
   "source": []
  },
  {
   "cell_type": "code",
   "execution_count": null,
   "metadata": {},
   "outputs": [],
   "source": []
  },
  {
   "cell_type": "code",
   "execution_count": null,
   "metadata": {},
   "outputs": [],
   "source": []
  },
  {
   "cell_type": "code",
   "execution_count": null,
   "metadata": {},
   "outputs": [],
   "source": []
  },
  {
   "cell_type": "code",
   "execution_count": null,
   "metadata": {},
   "outputs": [],
   "source": []
  },
  {
   "cell_type": "code",
   "execution_count": null,
   "metadata": {},
   "outputs": [],
   "source": []
  },
  {
   "cell_type": "code",
   "execution_count": null,
   "metadata": {},
   "outputs": [],
   "source": [
    "origin_img_size = 224\n",
    "pred_saver_cb = PredictionsSaverCallback(os.path.join(project_dir, 'data/output/submit.csv.gz'),\n",
    "                                             origin_img_size, threshold)"
   ]
  },
  {
   "cell_type": "code",
   "execution_count": null,
   "metadata": {},
   "outputs": [],
   "source": [
    "# # Predict & save\n",
    "# classifier.predict(test_loader, callbacks=[pred_saver_cb])\n",
    "# pred_saver_cb.close_saver()"
   ]
  },
  {
   "cell_type": "code",
   "execution_count": null,
   "metadata": {},
   "outputs": [],
   "source": []
  },
  {
   "cell_type": "code",
   "execution_count": null,
   "metadata": {},
   "outputs": [],
   "source": []
  },
  {
   "cell_type": "code",
   "execution_count": null,
   "metadata": {},
   "outputs": [],
   "source": []
  },
  {
   "cell_type": "code",
   "execution_count": null,
   "metadata": {},
   "outputs": [],
   "source": []
  },
  {
   "cell_type": "code",
   "execution_count": null,
   "metadata": {},
   "outputs": [],
   "source": [
    "## IoU\n",
    "\n",
    "import torch\n",
    "import numpy as np \n",
    "\n",
    "\n",
    "# PyTroch version\n",
    "\n",
    "SMOOTH = 1e-6\n",
    "\n",
    "def iou_pytorch(outputs: torch.Tensor, labels: torch.Tensor):\n",
    "    # You can comment out this line if you are passing tensors of equal shape\n",
    "    # But if you are passing output from UNet or something it will most probably\n",
    "    # be with the BATCH x 1 x H x W shape\n",
    "    outputs = outputs.squeeze(1)  # BATCH x 1 x H x W => BATCH x H x W\n",
    "    \n",
    "    intersection = (outputs & labels).float().sum((1, 2))  # Will be zero if Truth=0 or Prediction=0\n",
    "    union = (outputs | labels).float().sum((1, 2))         # Will be zzero if both are 0\n",
    "    \n",
    "    iou = (intersection + SMOOTH) / (union + SMOOTH)  # We smooth our devision to avoid 0/0\n",
    "    \n",
    "    thresholded = torch.clamp(20 * (iou - 0.5), 0, 10).ceil() / 10  # This is equal to comparing with thresolds\n",
    "    \n",
    "    return thresholded  # Or thresholded.mean() if you are interested in average across the batch\n",
    "    \n",
    "    \n",
    "# Numpy version\n",
    "# Well, it's the same function, so I'm going to omit the comments\n",
    "\n",
    "def iou_numpy(outputs: np.array, labels: np.array):\n",
    "    outputs = outputs.squeeze(1)\n",
    "    \n",
    "    intersection = (outputs & labels).sum((1, 2))\n",
    "    union = (outputs | labels).sum((1, 2))\n",
    "    \n",
    "    iou = (intersection + SMOOTH) / (union + SMOOTH)\n",
    "    \n",
    "    thresholded = np.ceil(np.clip(20 * (iou - 0.5), 0, 10)) / 10\n",
    "    \n",
    "    return thresholded  # Or thresholded.mean()"
   ]
  },
  {
   "cell_type": "code",
   "execution_count": 26,
   "metadata": {},
   "outputs": [],
   "source": [
    "image_1, mask_1 = train_ds.__getitem__(1)\n",
    "image_2, mask_2 = train_ds.__getitem__(2)"
   ]
  },
  {
   "cell_type": "code",
   "execution_count": 35,
   "metadata": {},
   "outputs": [],
   "source": [
    "## code for change detection\n",
    "# reference https://github.com/cbsudux/Mumbai-slum-segmentation/blob/b42c473af9dbd422cfa290d056125dc0174b01cb/slums/change_detection.py#L122\n",
    "# mask_1,mask_2,diff = cal_diff(mask_1,mask_2,files,image_1,image_2,results_1,results_2)\n"
   ]
  },
  {
   "cell_type": "code",
   "execution_count": 41,
   "metadata": {},
   "outputs": [
    {
     "name": "stdout",
     "output_type": "stream",
     "text": [
      "M1 area : 4453\n",
      "M2 area : 7941\n",
      "Diff in area : 10067\n",
      "Change  126.77244679511396 %\n"
     ]
    },
    {
     "ename": "NameError",
     "evalue": "name 'm1' is not defined",
     "output_type": "error",
     "traceback": [
      "\u001b[0;31m---------------------------------------------------------------------------\u001b[0m",
      "\u001b[0;31mNameError\u001b[0m                                 Traceback (most recent call last)",
      "\u001b[0;32m<ipython-input-41-ddd78e547d4f>\u001b[0m in \u001b[0;36m<module>\u001b[0;34m\u001b[0m\n\u001b[1;32m     56\u001b[0m     \u001b[0;32mreturn\u001b[0m \u001b[0mm1\u001b[0m\u001b[0;34m,\u001b[0m\u001b[0mm2\u001b[0m\u001b[0;34m,\u001b[0m\u001b[0mdiff\u001b[0m\u001b[0;34m\u001b[0m\u001b[0;34m\u001b[0m\u001b[0m\n\u001b[1;32m     57\u001b[0m \u001b[0;34m\u001b[0m\u001b[0m\n\u001b[0;32m---> 58\u001b[0;31m \u001b[0mmask_1\u001b[0m\u001b[0;34m,\u001b[0m\u001b[0mmask_2\u001b[0m\u001b[0;34m,\u001b[0m\u001b[0mdiff\u001b[0m \u001b[0;34m=\u001b[0m \u001b[0mcal_diff\u001b[0m\u001b[0;34m(\u001b[0m\u001b[0mmask_1\u001b[0m\u001b[0;34m,\u001b[0m\u001b[0mmask_2\u001b[0m\u001b[0;34m)\u001b[0m\u001b[0;34m\u001b[0m\u001b[0;34m\u001b[0m\u001b[0m\n\u001b[0m",
      "\u001b[0;32m<ipython-input-41-ddd78e547d4f>\u001b[0m in \u001b[0;36mcal_diff\u001b[0;34m(mask_1, mask_2)\u001b[0m\n\u001b[1;32m     54\u001b[0m     \u001b[0mprint\u001b[0m\u001b[0;34m(\u001b[0m\u001b[0;34m'Change '\u001b[0m\u001b[0;34m,\u001b[0m\u001b[0md\u001b[0m\u001b[0;34m*\u001b[0m\u001b[0;36m100\u001b[0m\u001b[0;34m,\u001b[0m\u001b[0;34m'%'\u001b[0m\u001b[0;34m)\u001b[0m\u001b[0;34m\u001b[0m\u001b[0;34m\u001b[0m\u001b[0m\n\u001b[1;32m     55\u001b[0m \u001b[0;34m\u001b[0m\u001b[0m\n\u001b[0;32m---> 56\u001b[0;31m     \u001b[0;32mreturn\u001b[0m \u001b[0mm1\u001b[0m\u001b[0;34m,\u001b[0m\u001b[0mm2\u001b[0m\u001b[0;34m,\u001b[0m\u001b[0mdiff\u001b[0m\u001b[0;34m\u001b[0m\u001b[0;34m\u001b[0m\u001b[0m\n\u001b[0m\u001b[1;32m     57\u001b[0m \u001b[0;34m\u001b[0m\u001b[0m\n\u001b[1;32m     58\u001b[0m \u001b[0mmask_1\u001b[0m\u001b[0;34m,\u001b[0m\u001b[0mmask_2\u001b[0m\u001b[0;34m,\u001b[0m\u001b[0mdiff\u001b[0m \u001b[0;34m=\u001b[0m \u001b[0mcal_diff\u001b[0m\u001b[0;34m(\u001b[0m\u001b[0mmask_1\u001b[0m\u001b[0;34m,\u001b[0m\u001b[0mmask_2\u001b[0m\u001b[0;34m)\u001b[0m\u001b[0;34m\u001b[0m\u001b[0;34m\u001b[0m\u001b[0m\n",
      "\u001b[0;31mNameError\u001b[0m: name 'm1' is not defined"
     ]
    }
   ],
   "source": [
    "import cv2\n",
    "from skimage import measure\n",
    " \n",
    "\n",
    "def get_area(mask):\n",
    "    area = measure.regionprops(mask.astype(np.uint8))\t\n",
    "    area = [prop.area for prop in area][0]\n",
    "    return area\n",
    "\n",
    "# def cal_diff(mask_1,mask_2,files,image_1,image_2,results_1,results_2):\n",
    "def cal_diff(mask_1,mask_2):\n",
    "#     import pdb; pdb.set_trace()\n",
    "    mask_1 = mask_1.numpy()\n",
    "    mask_2 = mask_2.numpy()\n",
    "    len_1 = mask_1.shape[1]\n",
    "    len_2 = mask_2.shape[1]\n",
    "\n",
    "#     #Number of detections might be unequal\n",
    "#     #combine mask channels.\n",
    "#     m1 = np.zeros((mask_1.shape[:1]))\n",
    "#     for i in range(len_1):\n",
    "#         m1 = np.logical_or(m1,mask_1[:,i])\n",
    "\n",
    "#     m2 = np.zeros((mask_2.shape[:1]))\n",
    "#     for i in range(len_2):\n",
    "#         m2 = np.logical_or(m2,mask_2[:,i])\n",
    "\n",
    "\n",
    "    #Calculate total area covered by mask_1\n",
    "    mask_1_area = get_area(mask_1)\n",
    "    mask_2_area = get_area(mask_2)\n",
    "\n",
    "#     m1 = m1.astype(np.uint8)\t\n",
    "#     m2 = m2.astype(np.uint8)\t\n",
    "\n",
    "#     print(m1.shape)\n",
    "#     print(m2.shape)\n",
    "\n",
    "    diff = cv2.absdiff(mask_1,mask_2)\n",
    "    diff_area = get_area(diff)\n",
    "\n",
    "    print(\"M1 area :\",mask_1_area)\n",
    "    print(\"M2 area :\",mask_2_area)\n",
    "    print(\"Diff in area :\",diff_area)\n",
    "\n",
    "    max_area = max(mask_1_area,mask_2_area)\n",
    "\n",
    "    d = diff_area/max_area\n",
    "    # \tif mask_1_area > mask_2_area:\n",
    "    # \t\tprint(files[0],' greater area')\n",
    "    # \telse:\n",
    "    # \t\tprint(files[1],' greater area')\n",
    "\n",
    "    print('Change ',d*100,'%')\n",
    "\n",
    "    return m1,m2,diff\n",
    "\n",
    "mask_1,mask_2,diff = cal_diff(mask_1,mask_2)"
   ]
  },
  {
   "cell_type": "code",
   "execution_count": null,
   "metadata": {},
   "outputs": [],
   "source": [
    "plt.imshow(mask_1)\n",
    "plt.axis('off')\n",
    "plt.savefig('change_det/mask_1.png',bbox_inches='tight')\n",
    "#plt.show()\n",
    "\n",
    "plt.imshow(mask_2)\n",
    "plt.axis('off')\n",
    "plt.savefig('change_det/mask_2.png',bbox_inches='tight')\n",
    "#plt.show()\n",
    "\n",
    "plt.imshow(diff)\n",
    "plt.axis('off')\n",
    "plt.savefig('change_det/change.png',bbox_inches='tight')\n",
    "#plt.show()"
   ]
  },
  {
   "cell_type": "code",
   "execution_count": null,
   "metadata": {},
   "outputs": [],
   "source": []
  }
 ],
 "metadata": {
  "kernelspec": {
   "display_name": "Python 3",
   "language": "python",
   "name": "python3"
  },
  "language_info": {
   "codemirror_mode": {
    "name": "ipython",
    "version": 3
   },
   "file_extension": ".py",
   "mimetype": "text/x-python",
   "name": "python",
   "nbconvert_exporter": "python",
   "pygments_lexer": "ipython3",
   "version": "3.7.3"
  }
 },
 "nbformat": 4,
 "nbformat_minor": 2
}
